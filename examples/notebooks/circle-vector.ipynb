{
 "cells": [
  {
   "cell_type": "markdown",
   "metadata": {},
   "source": [
    "# Mapboxgl Python Library\n",
    "\n",
    "https://github.com/mapbox/mapboxgl-jupyter"
   ]
  },
  {
   "cell_type": "code",
   "execution_count": null,
   "metadata": {},
   "outputs": [],
   "source": [
    "import os\n",
    "from mapboxgl.viz import *\n",
    "from mapboxgl.utils import *\n",
    "import pandas as pd\n",
    "\n",
    "# Must be a public token, starting with `pk`\n",
    "token = os.getenv('MAPBOX_ACCESS_TOKEN')"
   ]
  },
  {
   "cell_type": "markdown",
   "metadata": {},
   "source": [
    "## Vector source layer with data-join technique using JSON object"
   ]
  },
  {
   "cell_type": "code",
   "execution_count": null,
   "metadata": {},
   "outputs": [],
   "source": [
    "# Load data from sample csv\n",
    "data_url = 'https://raw.githubusercontent.com/mapbox/mapboxgl-jupyter/master/examples/data/points.csv'\n",
    "df = pd.read_csv(data_url).round(3)\n",
    "\n",
    "# Generate data breaks using numpy quantiles and color stops from colorBrewer\n",
    "measure = 'Avg Medicare Payments'\n",
    "color_breaks = [round(df[measure].quantile(q=x*0.1), 2) for x in range(1,9)]\n",
    "color_stops = create_color_stops(color_breaks, colors='YlGnBu')\n",
    "\n",
    "data = json.loads(df.to_json(orient='records'))\n",
    "v = CircleViz(data,\n",
    "              access_token=token,\n",
    "              vector_url='mapbox://rsbaumann.2pgmr66a',\n",
    "              vector_layer_name='healthcare-points-2yaw54',\n",
    "              vector_join_property='Provider Id',\n",
    "              data_join_property='Provider Id',\n",
    "              color_property=measure,\n",
    "              color_stops=color_stops,\n",
    "              radius=2.5,\n",
    "              stroke_color='black',\n",
    "              stroke_width=0.2,\n",
    "              center=(-95, 40),\n",
    "              zoom=3,\n",
    "              below_layer='waterway-label',\n",
    "              legend_text_numeric_precision=0)\n",
    "v.show()"
   ]
  },
  {
   "cell_type": "markdown",
   "metadata": {},
   "source": [
    "## GraduatedCircleViz with data-driven style using vector data only"
   ]
  },
  {
   "cell_type": "code",
   "execution_count": null,
   "metadata": {},
   "outputs": [],
   "source": [
    "# Generate data breaks and color stops from colorBrewer\n",
    "measure_color = 'Avg Covered Charges'\n",
    "color_breaks = [round(df[measure_color].quantile(q=x*0.1), 2) for x in range(2, 10)]\n",
    "color_stops = create_color_stops(color_breaks, colors='Blues')\n",
    "\n",
    "# Generate radius breaks from data domain and circle-radius range\n",
    "measure_radius = 'Avg Medicare Payments'\n",
    "radius_breaks = [round(df[measure_radius].quantile(q=x*0.1), 2) for x in range(2,10)]\n",
    "radius_stops = create_radius_stops(radius_breaks, 0.5, 10)\n",
    "\n",
    "# Create the viz\n",
    "viz2 = GraduatedCircleViz([],\n",
    "                          access_token=token,\n",
    "                          vector_url='mapbox://rsbaumann.2pgmr66a',\n",
    "                          vector_layer_name='healthcare-points-2yaw54',\n",
    "                          disable_data_join=True,\n",
    "                          color_property='Avg Covered Charges',\n",
    "                          color_stops=color_stops,\n",
    "                          radius_property=\"Avg Medicare Payments\",\n",
    "                          radius_stops=radius_stops,\n",
    "                          stroke_color='black',\n",
    "                          stroke_width=0.5,\n",
    "                          center=(-95, 40),\n",
    "                          zoom=3,\n",
    "                          opacity=0.75,\n",
    "                          legend_text_numeric_precision=0,\n",
    "                          below_layer='waterway-label')\n",
    "\n",
    "viz2.show()"
   ]
  },
  {
   "cell_type": "markdown",
   "metadata": {},
   "source": [
    "## HeatmapViz with data-driven style using vector data only"
   ]
  },
  {
   "cell_type": "code",
   "execution_count": null,
   "metadata": {},
   "outputs": [],
   "source": [
    "measure = 'Avg Medicare Payments'\n",
    "heatmap_color_stops = create_color_stops([0.01, 0.25, 0.5, 0.75, 1], colors='RdPu')\n",
    "heatmap_radius_stops = [[0, 3], [14, 100]]\n",
    "color_breaks = [round(df[measure].quantile(q=x*0.1), 2) for x in range(2,10)]\n",
    "color_stops = create_color_stops(color_breaks, colors='Spectral')\n",
    "heatmap_weight_stops = create_weight_stops(color_breaks)\n",
    "\n",
    "viz = HeatmapViz([], \n",
    "                 disable_data_join=True,\n",
    "                 access_token=token,\n",
    "                 vector_url='mapbox://rsbaumann.2pgmr66a',\n",
    "                 vector_layer_name='healthcare-points-2yaw54',\n",
    "                 weight_property='Avg Medicare Payments',\n",
    "                 weight_stops=heatmap_weight_stops,\n",
    "                 color_stops=heatmap_color_stops,\n",
    "                 radius_stops=heatmap_radius_stops,\n",
    "                 opacity=0.8,\n",
    "                 center=(-95, 40),\n",
    "                 zoom=3,\n",
    "                 below_layer='waterway-label')\n",
    "\n",
    "viz.show()"
   ]
  }
 ],
 "metadata": {
  "kernelspec": {
   "display_name": "Python 3",
   "language": "python",
   "name": "python3"
  },
  "language_info": {
   "codemirror_mode": {
    "name": "ipython",
    "version": 3
   },
   "file_extension": ".py",
   "mimetype": "text/x-python",
   "name": "python",
   "nbconvert_exporter": "python",
   "pygments_lexer": "ipython3",
   "version": "3.6.1"
  }
 },
 "nbformat": 4,
 "nbformat_minor": 2
}
