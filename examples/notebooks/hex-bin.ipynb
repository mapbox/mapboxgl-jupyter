{
 "cells": [
  {
   "cell_type": "code",
   "execution_count": 27,
   "metadata": {},
   "outputs": [],
   "source": [
    "import mapboxgl\n",
    "from h3 import h3\n",
    "import numpy as np\n",
    "import pandas as pd\n",
    "from geojson.feature import Feature, FeatureCollection\n",
    "\n",
    "# Must be a public token, starting with `pk`\n",
    "token = os.getenv('MAPBOX_ACCESS_TOKEN')"
   ]
  },
  {
   "cell_type": "code",
   "execution_count": 62,
   "metadata": {},
   "outputs": [],
   "source": [
    "df = pd.read_csv('https://raw.githubusercontent.com/mapbox/mapboxgl-jupyter/master/examples/data/us-temperature.csv')"
   ]
  },
  {
   "cell_type": "code",
   "execution_count": 30,
   "metadata": {},
   "outputs": [],
   "source": [
    "def encode_hexagon_str(lat, lon, resolution):\n",
    "    return h3.geo_to_h3(lat, lon, res=resolution)\n",
    "\n",
    "def hex_from_h3(h3_str):\n",
    "    return {\"type\": \"Polygon\",\n",
    "            \"coordinates\": [h3.h3_to_geo_boundary(h3_str, geo_json=True)]}"
   ]
  },
  {
   "cell_type": "code",
   "execution_count": 31,
   "metadata": {},
   "outputs": [],
   "source": [
    "encode_hexagon_str_v = np.vectorize(encode_hexagon_str)"
   ]
  },
  {
   "cell_type": "code",
   "execution_count": 32,
   "metadata": {},
   "outputs": [],
   "source": [
    "df['Temperature'] = df['Temperature'].astype(np.float64)\n",
    "df['HexagonStr'] = encode_hexagon_str_v(df['Latitude'], df['Longitude'], 3)"
   ]
  },
  {
   "cell_type": "code",
   "execution_count": 42,
   "metadata": {},
   "outputs": [],
   "source": [
    "df_hex = df[['Temperature', 'HexagonStr']].groupby(by='HexagonStr', as_index=False).mean().dropna()\n",
    "df_hex['Hexagon'] = df_hex.apply(lambda x: hex_from_h3(x['HexagonStr']), axis=1)"
   ]
  },
  {
   "cell_type": "code",
   "execution_count": 43,
   "metadata": {},
   "outputs": [],
   "source": [
    "features = []\n",
    "for i, row in df_hex.iterrows():\n",
    "    features.append(Feature(geometry=row['Hexagon'], properties={'Temperature': row['Temperature'], \n",
    "                                                                 'id': row['HexagonStr']}))"
   ]
  },
  {
   "cell_type": "code",
   "execution_count": 44,
   "metadata": {},
   "outputs": [],
   "source": [
    "feature_collection = FeatureCollection(features)"
   ]
  },
  {
   "cell_type": "code",
   "execution_count": 55,
   "metadata": {},
   "outputs": [],
   "source": [
    "color_stops_C = [\n",
    "    [50.0,  '#2b0001'],\n",
    "    [40.0,  '#6b1428'],\n",
    "    [30.0,  '#b83667'],\n",
    "    [25.0,  '#db6c55'],\n",
    "    [20.0,  '#e19f43'],\n",
    "    [15.0,  '#e1ce3a'],\n",
    "    [10.0,  '#b7da42'],\n",
    "    [5.0,   '#5bca4e'],\n",
    "    [0.0,   '#4eb195'],\n",
    "    [-5.0,  '#4176be'],\n",
    "    [-10.0, '#5751ac'],\n",
    "    [-15.0, '#2b1b69'],\n",
    "    [-20.0, '#8d1c8d'],\n",
    "    [-30.0, '#f4a5f3'],\n",
    "    [-40.0, '#e3e3e3']\n",
    "][::-1]\n",
    "\n",
    "color_stops_F = [\n",
    "    [120.0, '#2b0001'],\n",
    "    [100.0, '#6b1428'],\n",
    "    [90.0,  '#b83667'],\n",
    "    [80.0,  '#db6c55'],\n",
    "    [70.0,  '#e19f43'],\n",
    "    [60.0,  '#e1ce3a'],\n",
    "    [50.0,  '#b7da42'],\n",
    "    [40.0,  '#5bca4e'],\n",
    "    [30.0,  '#4eb195'],\n",
    "    [20.0,  '#4176be'],\n",
    "    [10.0,  '#5751ac'],\n",
    "    [0.0,   '#2b1b69'],\n",
    "    [-10.0, '#8d1c8d'],\n",
    "    [-20.0, '#f4a5f3'],\n",
    "    [-40.0, '#e3e3e3']\n",
    "][::-1]"
   ]
  },
  {
   "cell_type": "code",
   "execution_count": 56,
   "metadata": {},
   "outputs": [],
   "source": [
    "viz = mapboxgl.viz.ChoroplethViz(feature_collection,\n",
    "                access_token=token,\n",
    "                color_property='Temperature',\n",
    "                color_stops=color_stops_F,\n",
    "                color_function_type='interpolate',\n",
    "                opacity=0.5,\n",
    "                line_width=0.2,\n",
    "                line_opacity=0.025,\n",
    "                line_color='black',                 \n",
    "                color_default='#00aeef',\n",
    "                height='1080px',\n",
    "                width='1920px',\n",
    "                center=(-93, 38),\n",
    "                zoom=4,\n",
    "                add_snapshot_links=False\n",
    ")"
   ]
  },
  {
   "cell_type": "code",
   "execution_count": 57,
   "metadata": {},
   "outputs": [],
   "source": [
    "viz.create_html('map.html')"
   ]
  }
 ],
 "metadata": {
  "kernelspec": {
   "display_name": "Python 3",
   "language": "python",
   "name": "python3"
  },
  "language_info": {
   "codemirror_mode": {
    "name": "ipython",
    "version": 3
   },
   "file_extension": ".py",
   "mimetype": "text/x-python",
   "name": "python",
   "nbconvert_exporter": "python",
   "pygments_lexer": "ipython3",
   "version": "3.6.3"
  }
 },
 "nbformat": 4,
 "nbformat_minor": 2
}
