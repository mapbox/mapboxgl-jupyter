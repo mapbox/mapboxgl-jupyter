{
 "cells": [
  {
   "cell_type": "markdown",
   "metadata": {},
   "source": [
    "# Mapboxgl Python Library for location data visualization\n",
    "\n",
    "https://github.com/mapbox/mapboxgl-jupyter\n",
    "\n",
    "### Requirements\n",
    "\n",
    "These examples require the installation of the following python modules\n",
    "\n",
    "```\n",
    "pip install mapboxgl\n",
    "```"
   ]
  },
  {
   "cell_type": "code",
   "execution_count": null,
   "metadata": {},
   "outputs": [],
   "source": [
    "import os\n",
    "from mapboxgl.viz import RasterTilesViz\n",
    "\n",
    "# Set Mapbox Acces Token; Must be a public token, starting with `pk`\n",
    "token = os.getenv('MAPBOX_ACCESS_TOKEN')"
   ]
  },
  {
   "cell_type": "markdown",
   "metadata": {},
   "source": [
    "## Create a map with raster tiles from OpenStreetMap.org"
   ]
  },
  {
   "cell_type": "code",
   "execution_count": null,
   "metadata": {},
   "outputs": [],
   "source": [
    "tiles_url = 'https://a.tile.openstreetmap.org/{z}/{x}/{y}.png'\n",
    "\n",
    "# Create an empty style\n",
    "style = {'version': 8, 'sources': {}, 'layers': []}\n",
    "\n",
    "viz = RasterTilesViz(tiles_url, \n",
    "                     access_token=token,\n",
    "                     tiles_size=256,\n",
    "                     height='500px', \n",
    "                     zoom=3, \n",
    "                     style=style)\n",
    "viz.show()"
   ]
  }
 ],
 "metadata": {
  "kernelspec": {
   "display_name": "3.10.14",
   "language": "python",
   "name": "python3"
  },
  "language_info": {
   "codemirror_mode": {
    "name": "ipython",
    "version": 3
   },
   "file_extension": ".py",
   "mimetype": "text/x-python",
   "name": "python",
   "nbconvert_exporter": "python",
   "pygments_lexer": "ipython3",
   "version": "3.10.14"
  }
 },
 "nbformat": 4,
 "nbformat_minor": 2
}
