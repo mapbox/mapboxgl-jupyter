{
 "cells": [
  {
   "cell_type": "markdown",
   "metadata": {},
   "source": [
    "# Mapboxgl Python Library\n",
    "\n",
    "https://github.com/mapbox/mapboxgl-jupyter"
   ]
  },
  {
   "cell_type": "code",
   "execution_count": null,
   "metadata": {},
   "outputs": [],
   "source": [
    "import os\n",
    "from mapboxgl.viz import *\n",
    "\n",
    "# Must be a public token, starting with `pk`\n",
    "token = os.getenv('MAPBOX_ACCESS_TOKEN')"
   ]
  },
  {
   "cell_type": "markdown",
   "metadata": {},
   "source": [
    "## Chloropleths with interpolated color assignment"
   ]
  },
  {
   "cell_type": "code",
   "execution_count": null,
   "metadata": {},
   "outputs": [],
   "source": [
    "sample_color_stops = [\n",
    "    [0.0, 'rgb(255,255,204)'],\n",
    "    [100.0, 'rgb(255,237,160)'],\n",
    "    [500.0, 'rgb(253,141,60)'],\n",
    "    [2000.0, 'rgb(227,26,28)'],\n",
    "    [5000.0, 'rgb(189,0,38)'],\n",
    "    [10000.0,'rgb(128,0,38)']\n",
    "]\n",
    "   \n",
    "viz = ChloroplethViz('us-states.geojson', \n",
    "                     color_property='density',\n",
    "                     color_stops=sample_color_stops,\n",
    "                     color_function_type='interpolate',\n",
    "                     line_stroke='dashed',\n",
    "                     line_color='rgb(128,0,38)',\n",
    "                     line_width=1,\n",
    "                     opacity=0.8,\n",
    "                     center=(-96, 37.8),\n",
    "                     zoom=3,\n",
    "                     below_layer='waterway-label'\n",
    "                    )\n",
    "viz.show()"
   ]
  },
  {
   "cell_type": "markdown",
   "metadata": {},
   "source": [
    "## Chloropleths with match-type color scheme"
   ]
  },
  {
   "cell_type": "code",
   "execution_count": null,
   "metadata": {},
   "outputs": [],
   "source": [
    "match_color_stops = [\n",
    "    ['Massachusetts', 'rgb(46,204,113)'],\n",
    "    ['Utah', 'rgb(231,76,60)'],\n",
    "    ['California', 'rgb(142,68,173)'],\n",
    "]\n",
    "    \n",
    "viz = ChloroplethViz('us-states.geojson', \n",
    "                     color_property='name', \n",
    "                     color_stops = match_color_stops, \n",
    "                     color_function_type = 'match', \n",
    "                     color_default = 'rgba(52,73,94,0.5)', \n",
    "                     opacity=0.8, \n",
    "                     center = (-96, 37.8), \n",
    "                     zoom = 3, \n",
    "                     below_layer = 'waterway-label'\n",
    "                    )\n",
    "viz.show()"
   ]
  }
 ],
 "metadata": {
  "anaconda-cloud": {
   "attach-environment": true,
   "environment": "Root",
   "summary": "Mapboxgl Python Data Visualization example"
  },
  "kernelspec": {
   "display_name": "Python 3",
   "language": "python",
   "name": "python3"
  },
  "language_info": {
   "codemirror_mode": {
    "name": "ipython",
    "version": 3
   },
   "file_extension": ".py",
   "mimetype": "text/x-python",
   "name": "python",
   "nbconvert_exporter": "python",
   "pygments_lexer": "ipython3",
   "version": "3.6.1"
  }
 },
 "nbformat": 4,
 "nbformat_minor": 1
}
